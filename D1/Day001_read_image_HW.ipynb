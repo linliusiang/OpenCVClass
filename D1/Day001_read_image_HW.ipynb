{
 "cells": [
  {
   "cell_type": "markdown",
   "metadata": {},
   "source": [
    "# 作業\n",
    "\n",
    "思考一下我們前面有提到圖片是矩陣，但維度可能會不一樣\n",
    "例如灰階圖只有兩個維度，RGB 彩圖則有 3 個維度\n",
    "\n",
    "假如今天我們把 RGB 3 個維度拆開來看會有甚麼不同的效果呢？"
   ]
  },
  {
   "cell_type": "code",
   "execution_count": 5,
   "metadata": {},
   "outputs": [],
   "source": [
    "import cv2\n",
    "from matplotlib import pyplot as plt\n",
    "\n",
    "img_path = '../Part01/lena.png'\n",
    "\n",
    "# 以彩色圖片的方式載入\n",
    "img = cv2.imread(img_path, cv2.IMREAD_COLOR)\n",
    "\n",
    "\n",
    "row_num = img.shape[0]\n",
    "column_num = img.shape[1]\n",
    "R_image = img.copy() \n",
    "G_image = img.copy()\n",
    "B_image = img.copy()\n",
    "\n",
    "for row in range(row_num): \n",
    "    for column in range(column_num):\n",
    "        R_image[row, column, 0] = img[row, column, 0] * 0\n",
    "        R_image[row, column, 1] = img[row, column, 1] * 0\n",
    "        R_image[row, column, 2] = img[row, column, 2] * 1\n",
    "        G_image[row, column, 0] = img[row, column, 0] * 0\n",
    "        G_image[row, column, 1] = img[row, column, 1] * 1\n",
    "        G_image[row, column, 2] = img[row, column, 2] * 0\n",
    "        B_image[row, column, 0] = img[row, column, 0] * 1\n",
    "        B_image[row, column, 1] = img[row, column, 1] * 0\n",
    "        B_image[row, column, 2] = img[row, column, 2] * 0\n",
    "\n",
    "#plt.imshow(img)\n",
    "#plt.show()\n",
    "\n",
    "#plt.imshow(img1)\n",
    "#plt.show()\n",
    "\n",
    "#plt.imshow(img_gray)\n",
    "#plt.show()\n",
    "\n",
    "# 為了要不斷顯示圖片，所以使用一個迴圈\n",
    "while True:\n",
    "    cv2.imshow('R', R_image)\n",
    "    cv2.imshow('G', G_image)\n",
    "    cv2.imshow('B', B_image)\n",
    "    \n",
    "    # 直到按下 ESC 鍵才會自動關閉視窗結束程式\n",
    "    k = cv2.waitKey(0)\n",
    "    if k == 27:\n",
    "        cv2.destroyAllWindows()\n",
    "        break"
   ]
  },
  {
   "cell_type": "code",
   "execution_count": null,
   "metadata": {},
   "outputs": [],
   "source": []
  }
 ],
 "metadata": {
  "kernelspec": {
   "display_name": "Python 3",
   "language": "python",
   "name": "python3"
  },
  "language_info": {
   "codemirror_mode": {
    "name": "ipython",
    "version": 3
   },
   "file_extension": ".py",
   "mimetype": "text/x-python",
   "name": "python",
   "nbconvert_exporter": "python",
   "pygments_lexer": "ipython3",
   "version": "3.7.3"
  }
 },
 "nbformat": 4,
 "nbformat_minor": 2
}
